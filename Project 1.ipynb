{
 "cells": [
  {
   "cell_type": "code",
   "execution_count": 1,
   "id": "a0bebbac",
   "metadata": {},
   "outputs": [],
   "source": [
    "import pandas as pd\n",
    "import nltk\n",
    "import matplotlib.pyplot as plt\n",
    "import seaborn as sns\n",
    "from nltk.corpus import stopwords\n",
    "from nltk.tokenize import word_tokenize\n",
    "from nltk.stem import WordNetLemmatizer\n",
    "from sklearn.feature_extraction.text import TfidfVectorizer\n",
    "from sklearn.model_selection import train_test_split, KFold\n",
    "from sklearn.naive_bayes import MultinomialNB\n",
    "from sklearn.metrics import accuracy_score, precision_recall_fscore_support"
   ]
  },
  {
   "cell_type": "code",
   "execution_count": 2,
   "id": "19750591",
   "metadata": {},
   "outputs": [],
   "source": [
    "# Load the data\n",
    "train_data = pd.read_csv('Project 1 dataset/train.csv')\n",
    "test_data = pd.read_csv('Project 1 dataset/test.csv')\n",
    "\n",
    "#print(train_data.head())\n",
    "#Variables Given: id, title, author, text, label\n",
    "\n",
    "#print(test_data.head())\n",
    "#Variables Given: id, title, author, text\n"
   ]
  },
  {
   "cell_type": "code",
   "execution_count": 3,
   "id": "27e835e1",
   "metadata": {},
   "outputs": [],
   "source": [
    "# Combine the text columns into one for feature extraction\n",
    "train_text = train_data['title'] + ' ' + train_data['author'] + ' ' + train_data['text']\n",
    "test_text = test_data['title'] + ' ' + test_data['author'] + ' ' + test_data['text']"
   ]
  },
  {
   "cell_type": "code",
   "execution_count": 4,
   "id": "972eaf61",
   "metadata": {},
   "outputs": [],
   "source": [
    "# Define stop words to remove from text\n",
    "stop_words = set(stopwords.words('english'))\n",
    "\n",
    "#Retrieves a set of stop words for the English language from the corpus.\n",
    "#Assigns the set of stop words to the variable \"stop_words\" for use in text preprocessing to remove common words that may not be informative for the task at hand."
   ]
  },
  {
   "cell_type": "code",
   "execution_count": 5,
   "id": "b5ff61ee",
   "metadata": {},
   "outputs": [],
   "source": [
    "# Initialize lemmatizer\n",
    "lemmatizer = WordNetLemmatizer()\n",
    "\n",
    "#Lemmatization is the process of reducing a word to its base form (called lemma) by applying linguistic rules \n",
    "#It can help in reducing the sparsity of the feature matrix and improve the performance of text classification models."
   ]
  },
  {
   "cell_type": "code",
   "execution_count": 6,
   "id": "700adb5b",
   "metadata": {},
   "outputs": [],
   "source": [
    "# Define a function for text preprocessing\n",
    "def preprocess_text(text):\n",
    "    if type(text) == float:\n",
    "        # If the text is a missing value (NaN), replace it with an empty string\n",
    "        text = ''\n",
    "    # Tokenize the text\n",
    "    words = word_tokenize(text.lower())\n",
    "\n",
    "    # Remove stop words and words with less than 3 characters\n",
    "    words = [word for word in words if word not in stop_words and len(word) > 2]\n",
    "\n",
    "    # Lemmatize the words\n",
    "    words = [lemmatizer.lemmatize(word) for word in words]\n",
    "\n",
    "    # Return the processed text as a string\n",
    "    return ' '.join(words)\n",
    "\n",
    "# Preprocess the text\n",
    "train_text = train_text.apply(preprocess_text)\n",
    "#print(train_text)\n",
    "test_text = test_text.apply(preprocess_text)\n",
    "#print(test_text)"
   ]
  },
  {
   "cell_type": "code",
   "execution_count": 7,
   "id": "2ceef9e3",
   "metadata": {},
   "outputs": [],
   "source": [
    "# Extract features using TF-IDF vectorizer\n",
    "vectorizer = TfidfVectorizer(ngram_range=(1, 2), max_features=10000)\n",
    "#ngram_range=(1, 2) specifies that the vectorizer should consider unigrams and bigrams as features.\n",
    "#max_features=10000 limits the maximum number of features to 10,000.\n",
    "\n",
    "train_features = vectorizer.fit_transform(train_text)\n",
    "#transform the text data into a matrix of TF-IDF features\n",
    "\n",
    "#print(train_features)\n",
    "test_features = vectorizer.transform(test_text)\n",
    "#print(test_features)\n",
    "\n",
    "#The reason were are doing this is to extract features from the text data using the Term Frequency-Inverse Document Frequency (TF-IDF) vectorizer\n",
    "#This is a common technique in natural language processing for converting raw text into a numerical representation that can be used as input to machine learning algorithms."
   ]
  },
  {
   "cell_type": "code",
   "execution_count": 8,
   "id": "e30db9ae",
   "metadata": {},
   "outputs": [
    {
     "data": {
      "image/png": "[encoded data removed]",
      "text/plain": [
       "<Figure size 864x432 with 2 Axes>"
      ]
     },
     "metadata": {
      "needs_background": "light"
     },
     "output_type": "display_data"
    }
   ],
   "source": [
    "train_feature_counts = train_features.sum(axis=1).A1\n",
    "#calculates the sum of features in each training sample and saves the result as an array.\n",
    "\n",
    "test_feature_counts = test_features.sum(axis=1).A1\n",
    "#calculates the sum of features in each test sample and saves the result as an array.\n",
    "\n",
    "fig, ax = plt.subplots(nrows=1, ncols=2, figsize=(12, 6))\n",
    "#creates a figure with two subplots. \n",
    "\n",
    "sns.histplot(train_feature_counts, ax=ax[0])\n",
    "#creates a histogram of the distribution of feature counts in the training data and plots it on the first subplot.\n",
    "\n",
    "ax[0].set_title('Distribution of Number of Features in Training Data')\n",
    "ax[0].set_xlabel('Number of Features')\n",
    "ax[0].set_xlim(left=1) # set the lower limit of x-axis to 1\n",
    "\n",
    "sns.histplot(test_feature_counts, ax=ax[1])\n",
    "ax[1].set_title('Distribution of Number of Features in Test Data')\n",
    "ax[1].set_xlabel('Number of Features')\n",
    "ax[1].set_xlim(left=1) # set the lower limit of x-axis to 1\n",
    "\n",
    "plt.show()\n",
    "\n",
    "#The output tells us that:\n",
    "#Most of the documents have a small number of unique features, with very few documents having a large number of unique features.\n",
    "#These features are crucial for distinguishing between different classes in the dataset.\n",
    "#The most informative features are likely to be those that occur in a small number of documents, which is typical of text data."
   ]
  },
  {
   "cell_type": "code",
   "execution_count": 9,
   "id": "32a18fab",
   "metadata": {},
   "outputs": [
    {
     "name": "stdout",
     "output_type": "stream",
     "text": [
      "Fold 1\n",
      "Accuracy: 0.9456730769230769\n",
      "Precision: 0.9458548650106045\n",
      "Recall: 0.9456730769230769\n",
      "F1 score: 0.9456675386891091\n",
      "Fold 2\n",
      "Accuracy: 0.9487980769230769\n",
      "Precision: 0.9490679975258685\n",
      "Recall: 0.9487980769230769\n",
      "F1 score: 0.948778772339845\n",
      "Fold 3\n",
      "Accuracy: 0.9459134615384616\n",
      "Precision: 0.9459576688361943\n",
      "Recall: 0.9459134615384616\n",
      "F1 score: 0.9459066290247101\n",
      "Fold 4\n",
      "Accuracy: 0.8194711538461539\n",
      "Precision: 0.8458813125295015\n",
      "Recall: 0.8194711538461539\n",
      "F1 score: 0.8164163779226751\n",
      "Fold 5\n",
      "Accuracy: 0.8283653846153847\n",
      "Precision: 0.85433097128838\n",
      "Recall: 0.8283653846153847\n",
      "F1 score: 0.8258749667571563\n"
     ]
    },
    {
     "data": {
      "image/png": "[encoded data removed]",
      "text/plain": [
       "<Figure size 864x432 with 1 Axes>"
      ]
     },
     "metadata": {
      "needs_background": "light"
     },
     "output_type": "display_data"
    }
   ],
   "source": [
    "# Initialize lists to store performance metrics for each fold\n",
    "accuracies = []\n",
    "precisions = []\n",
    "recalls = []\n",
    "f1_scores = []\n",
    "\n",
    "# Perform k-fold cross-validation\n",
    "kfold = KFold(n_splits=5, shuffle=True, random_state=47)\n",
    "\n",
    "for i, (train_indices, val_indices) in enumerate(kfold.split(train_features)):\n",
    "    print('Fold', i+1)\n",
    "    # Split the data into training and validation sets for this fold\n",
    "    X_train, y_train = train_features[train_indices], train_data['label'][train_indices]\n",
    "    X_val, y_val = train_features[val_indices], train_data['label'][val_indices]\n",
    "\n",
    "    # Train a Naive Bayes classifier on the training data for this fold\n",
    "    clf = MultinomialNB()\n",
    "    clf.fit(X_train, y_train)\n",
    "\n",
    "    # Evaluate the classifier on the validation data for this fold\n",
    "    y_pred = clf.predict(X_val)\n",
    "\n",
    "    # Calculate performance metrics for this fold\n",
    "    accuracy = accuracy_score(y_val, y_pred)\n",
    "    precision, recall, f1_score, _ = precision_recall_fscore_support(y_val, y_pred, average='weighted')\n",
    "\n",
    "    # Print performance metrics for this fold\n",
    "    print('Accuracy:', accuracy)\n",
    "    print('Precision:', precision)\n",
    "    print('Recall:', recall)\n",
    "    print('F1 score:', f1_score)\n",
    "\n",
    "    # Store performance metrics for this fold\n",
    "    accuracies.append(accuracy)\n",
    "    precisions.append(precision)\n",
    "    recalls.append(recall)\n",
    "    f1_scores.append(f1_score)\n",
    "\n",
    "# Plot performance metrics for each fold\n",
    "plt.figure(figsize=(12, 6))\n",
    "\n",
    "plt.plot(range(1, 6), accuracies, label='Accuracy')\n",
    "plt.plot(range(1, 6), precisions, label='Precision')\n",
    "plt.plot(range(1, 6), recalls, label='Recall')\n",
    "plt.plot(range(1, 6), f1_scores, label='F1 score')\n",
    "\n",
    "plt.title('Performance Metrics for 5-Fold Cross-Validation')\n",
    "plt.xlabel('Fold')\n",
    "plt.ylabel('Score')\n",
    "plt.xticks(range(1, 6))\n",
    "plt.legend()\n",
    "\n",
    "plt.show()"
   ]
  },
  {
   "cell_type": "code",
   "execution_count": 10,
   "id": "76193beb",
   "metadata": {},
   "outputs": [
    {
     "name": "stdout",
     "output_type": "stream",
     "text": [
      "Accuracy: 0.8976442307692307\n",
      "Precision: 0.9082185630381098\n",
      "Recall: 0.8976442307692307\n",
      "F1-score: 0.8965288569466991\n"
     ]
    }
   ],
   "source": [
    "# Calculate the average evaluation metrics over all folds\n",
    "mean_accuracy = sum(accuracies) / len(accuracies)\n",
    "mean_precision = sum(precisions) / len(precisions)\n",
    "mean_recall = sum(recalls) / len(recalls)\n",
    "mean_f1_score = sum(f1_scores) / len(f1_scores)\n",
    "\n",
    "print('Accuracy:', mean_accuracy)\n",
    "print('Precision:', mean_precision)\n",
    "print('Recall:', mean_recall)\n",
    "print('F1-score:', mean_f1_score)"
   ]
  },
  {
   "cell_type": "code",
   "execution_count": null,
   "id": "ff4f8067",
   "metadata": {
    "scrolled": true
   },
   "outputs": [],
   "source": []
  }
 ],
 "metadata": {
  "kernelspec": {
   "display_name": "Python 3 (ipykernel)",
   "language": "python",
   "name": "python3"
  },
  "language_info": {
   "codemirror_mode": {
    "name": "ipython",
    "version": 3
   },
   "file_extension": ".py",
   "mimetype": "text/x-python",
   "name": "python",
   "nbconvert_exporter": "python",
   "pygments_lexer": "ipython3",
   "version": "3.9.7"
  }
 },
 "nbformat": 4,
 "nbformat_minor": 5
}
