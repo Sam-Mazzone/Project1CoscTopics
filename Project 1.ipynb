{
 "cells": [
  {
   "cell_type": "code",
   "execution_count": 1,
   "id": "a0bebbac",
   "metadata": {},
   "outputs": [],
   "source": [
    "import pandas as pd\n",
    "import nltk\n",
    "import matplotlib.pyplot as plt\n",
    "import seaborn as sns\n",
    "from nltk.corpus import stopwords\n",
    "from nltk.tokenize import word_tokenize\n",
    "from nltk.stem import WordNetLemmatizer\n",
    "from sklearn.feature_extraction.text import TfidfVectorizer\n",
    "from sklearn.model_selection import train_test_split, KFold\n",
    "from sklearn.naive_bayes import MultinomialNB\n",
    "from sklearn.metrics import accuracy_score, precision_recall_fscore_support"
   ]
  },
  {
   "cell_type": "code",
   "execution_count": 2,
   "id": "19750591",
   "metadata": {},
   "outputs": [],
   "source": [
    "# Load the data\n",
    "train_data = pd.read_csv('Project 1 dataset/train.csv')\n",
    "test_data = pd.read_csv('Project 1 dataset/test.csv')"
   ]
  },
  {
   "cell_type": "code",
   "execution_count": 3,
   "id": "27e835e1",
   "metadata": {},
   "outputs": [],
   "source": [
    "# Combine the text columns into one for feature extraction\n",
    "train_text = train_data['title'] + ' ' + train_data['author'] + ' ' + train_data['text']\n",
    "test_text = test_data['title'] + ' ' + test_data['author'] + ' ' + test_data['text']"
   ]
  },
  {
   "cell_type": "code",
   "execution_count": 4,
   "id": "972eaf61",
   "metadata": {},
   "outputs": [],
   "source": [
    "# Define stop words to remove from text\n",
    "stop_words = set(stopwords.words('english'))"
   ]
  },
  {
   "cell_type": "code",
   "execution_count": 5,
   "id": "b5ff61ee",
   "metadata": {},
   "outputs": [],
   "source": [
    "# Initialize lemmatizer\n",
    "lemmatizer = WordNetLemmatizer()"
   ]
  },
  {
   "cell_type": "code",
   "execution_count": 6,
   "id": "700adb5b",
   "metadata": {},
   "outputs": [],
   "source": [
    "# Define a function for text preprocessing\n",
    "def preprocess_text(text):\n",
    "    if type(text) == float:\n",
    "        # If the text is a missing value (NaN), replace it with an empty string\n",
    "        text = ''\n",
    "    # Tokenize the text\n",
    "    words = word_tokenize(text.lower())\n",
    "\n",
    "    # Remove stop words and words with less than 3 characters\n",
    "    words = [word for word in words if word not in stop_words and len(word) > 2]\n",
    "\n",
    "    # Lemmatize the words\n",
    "    words = [lemmatizer.lemmatize(word) for word in words]\n",
    "\n",
    "    # Return the processed text as a string\n",
    "    return ' '.join(words)\n",
    "\n",
    "# Preprocess the text\n",
    "train_text = train_text.apply(preprocess_text)\n",
    "#print(train_text)\n",
    "test_text = test_text.apply(preprocess_text)\n",
    "#print(test_text)"
   ]
  },
  {
   "cell_type": "code",
   "execution_count": 7,
   "id": "2ceef9e3",
   "metadata": {},
   "outputs": [],
   "source": [
    "# Extract features using TF-IDF vectorizer\n",
    "vectorizer = TfidfVectorizer(ngram_range=(1, 2), max_features=10000)\n",
    "train_features = vectorizer.fit_transform(train_text)\n",
    "#print(train_features)\n",
    "test_features = vectorizer.transform(test_text)\n",
    "#print(test_features)"
   ]
  },
  {
   "cell_type": "code",
   "execution_count": 8,
   "id": "e30db9ae",
   "metadata": {},
   "outputs": [
    {
     "data": {
      "image/png": "[encoded data removed]",
      "text/plain": [
       "<Figure size 864x432 with 2 Axes>"
      ]
     },
     "metadata": {
      "needs_background": "light"
     },
     "output_type": "display_data"
    }
   ],
   "source": [
    "# Plot the distribution of the number of features for the training and test datasets\n",
    "train_feature_counts = train_features.sum(axis=1).A1\n",
    "test_feature_counts = test_features.sum(axis=1).A1\n",
    "\n",
    "fig, ax = plt.subplots(nrows=1, ncols=2, figsize=(12, 6))\n",
    "\n",
    "sns.histplot(train_feature_counts, ax=ax[0])\n",
    "ax[0].set_title('Distribution of Number of Features in Training Data')\n",
    "ax[0].set_xlabel('Number of Features')\n",
    "\n",
    "sns.histplot(test_feature_counts, ax=ax[1])\n",
    "ax[1].set_title('Distribution of Number of Features in Test Data')\n",
    "ax[1].set_xlabel('Number of Features')\n",
    "\n",
    "plt.show()"
   ]
  },
  {
   "cell_type": "code",
   "execution_count": 9,
   "id": "32a18fab",
   "metadata": {},
   "outputs": [],
   "source": [
    "# Perform k-fold cross-validation\n",
    "kfold = KFold(n_splits=5, shuffle=True, random_state=42)\n",
    "accuracies = []\n",
    "precisions = []\n",
    "recalls = []\n",
    "fscores = []\n",
    "\n",
    "for train_index, val_index in kfold.split(train_features):\n",
    "    X_train, X_val = train_features[train_index], train_features[val_index]\n",
    "    y_train, y_val = train_data['label'][train_index], train_data['label'][val_index]\n",
    "\n",
    "    # Train a Naive Bayes classifier\n",
    "    classifier = MultinomialNB()\n",
    "    classifier.fit(X_train, y_train)\n",
    "\n",
    "    # Predict labels for the validation set\n",
    "    y_pred = classifier.predict(X_val)\n",
    "    #print(y_pred)\n",
    "\n",
    "    # Calculate evaluation metrics\n",
    "    accuracy = accuracy_score(y_val, y_pred)\n",
    "    precision, recall, fscore, _ = precision_recall_fscore_support(y_val, y_pred, average='binary')\n",
    "\n",
    "    accuracies.append(accuracy)\n",
    "    precisions.append(precision)\n",
    "    recalls.append(recall)\n",
    "    fscores.append(fscore)"
   ]
  },
  {
   "cell_type": "code",
   "execution_count": 10,
   "id": "76193beb",
   "metadata": {},
   "outputs": [
    {
     "name": "stdout",
     "output_type": "stream",
     "text": [
      "Accuracy: 0.8729807692307692\n",
      "Precision: 0.9487620861523587\n",
      "Recall: 0.7901763940133673\n",
      "F-score: 0.8578984405396473\n"
     ]
    }
   ],
   "source": [
    "# Calculate the average evaluation metrics over all folds\n",
    "mean_accuracy = sum(accuracies) / len(accuracies)\n",
    "mean_precision = sum(precisions) / len(precisions)\n",
    "mean_recall = sum(recalls) / len(recalls)\n",
    "mean_fscore = sum(fscores) / len(fscores)\n",
    "\n",
    "print('Accuracy:', mean_accuracy)\n",
    "print('Precision:', mean_precision)\n",
    "print('Recall:', mean_recall)\n",
    "print('F-score:', mean_fscore)\n",
    "\n",
    "#Accuracy: 0.8729807692307692\n",
    "#Precision: 0.9487620861523587\n",
    "#Recall:  0.7901763940133673\n",
    "#F-score: 0.8578984405396473"
   ]
  },
  {
   "cell_type": "code",
   "execution_count": null,
   "id": "ff4f8067",
   "metadata": {
    "scrolled": true
   },
   "outputs": [],
   "source": []
  }
 ],
 "metadata": {
  "kernelspec": {
   "display_name": "Python 3 (ipykernel)",
   "language": "python",
   "name": "python3"
  },
  "language_info": {
   "codemirror_mode": {
    "name": "ipython",
    "version": 3
   },
   "file_extension": ".py",
   "mimetype": "text/x-python",
   "name": "python",
   "nbconvert_exporter": "python",
   "pygments_lexer": "ipython3",
   "version": "3.9.7"
  }
 },
 "nbformat": 4,
 "nbformat_minor": 5
}
